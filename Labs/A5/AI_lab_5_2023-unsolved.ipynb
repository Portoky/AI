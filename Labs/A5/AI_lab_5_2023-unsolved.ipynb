{
 "cells": [
  {
   "cell_type": "markdown",
   "id": "b8210b19",
   "metadata": {},
   "source": [
    "## A.I. Assignment 5\n",
    "\n",
    "## Learning Goals\n",
    "\n",
    "By the end of this lab, you should be able to:\n",
    "* Get more familiar with tensors in pytorch \n",
    "* Create a simple multilayer perceptron model with pytorch\n",
    "* Visualise the parameters\n",
    "\n",
    "\n",
    "### Task\n",
    "\n",
    "Build a fully connected feed forward network that adds two bits. Determine the a propper achitecture for this network (what database you use for this problem? how many layers? how many neurons on each layer? what is the activation function? what is the loss function? etc)\n",
    "\n",
    "Create at least 3 such networks and compare their performance (how accurate they are?, how farst they are trained to get at 1 accuracy?)\n",
    "\n",
    "Display for the best one the weights for each layer.\n"
   ]
  },
  {
   "cell_type": "code",
   "execution_count": 1,
   "id": "e3614e5f",
   "metadata": {},
   "outputs": [],
   "source": [
    "import torch\n",
    "import torch.nn as nn\n",
    "from collections import OrderedDict\n",
    "import matplotlib.pyplot as plt"
   ]
  },
  {
   "cell_type": "code",
   "execution_count": 26,
   "id": "5ee7e7d7",
   "metadata": {},
   "outputs": [],
   "source": [
    "# your code here\n",
    "#hidden size = 2\n",
    "#layers\n",
    "class MyNeuralNetwork(nn.Module):\n",
    "    def __init__(self, hidden_size):\n",
    "        super(MyNeuralNetwork, self).__init__()\n",
    "        self.network = nn.Sequential(OrderedDict([\n",
    "        ('hidden',nn.Linear(2, hidden_size)),\n",
    "        ('relu', nn.ReLU()),\n",
    "        ('output', nn.Linear(hidden_size, 2))\n",
    "        ]))\n",
    "        self.softmax = nn.Softmax(dim=1)# I use softmax because its a multi-class classification\n",
    "    def forward(self, x):\n",
    "        x = self.network(x)\n",
    "        return x\n",
    "\n"
   ]
  },
  {
   "cell_type": "code",
   "execution_count": 27,
   "id": "665ae958",
   "metadata": {},
   "outputs": [
    {
     "name": "stdout",
     "output_type": "stream",
     "text": [
      "MyNeuralNetwork(\n",
      "  (network): Sequential(\n",
      "    (hidden): Linear(in_features=2, out_features=3, bias=True)\n",
      "    (relu): ReLU()\n",
      "    (output): Linear(in_features=3, out_features=2, bias=True)\n",
      "  )\n",
      "  (softmax): Softmax(dim=1)\n",
      ")\n"
     ]
    }
   ],
   "source": [
    "model = MyNeuralNetwork(3);\n",
    "\n",
    "print(model)"
   ]
  },
  {
   "cell_type": "code",
   "execution_count": 21,
   "id": "e26f0d3e",
   "metadata": {},
   "outputs": [
    {
     "name": "stdout",
     "output_type": "stream",
     "text": [
      "tensor([[0., 0.],\n",
      "        [0., 1.],\n",
      "        [1., 0.],\n",
      "        [1., 1.]])\n"
     ]
    }
   ],
   "source": [
    "# your code here\n",
    "data_in = torch.tensor([[0, 0], [0, 1], [1, 0], [1, 1]], dtype=torch.float32)\n",
    "print(data_in)"
   ]
  },
  {
   "cell_type": "code",
   "execution_count": 22,
   "id": "4fb16bbc",
   "metadata": {},
   "outputs": [
    {
     "name": "stdout",
     "output_type": "stream",
     "text": [
      "tensor([[0., 0.],\n",
      "        [0., 1.],\n",
      "        [0., 1.],\n",
      "        [1., 0.]])\n"
     ]
    }
   ],
   "source": [
    "data_target = torch.tensor([[0, 0], [0, 1], [0, 1], [1, 0]], dtype=torch.float32)\n",
    "print(data_target)"
   ]
  },
  {
   "cell_type": "code",
   "execution_count": 28,
   "id": "69d920ed",
   "metadata": {},
   "outputs": [],
   "source": [
    "# your code here\n",
    "criterion = nn.BCEWithLogitsLoss() #once again for multiclass\n",
    "optimizer = torch.optim.SGD(model.parameters(), lr=0.1) "
   ]
  },
  {
   "cell_type": "code",
   "execution_count": 29,
   "id": "cde91f6f",
   "metadata": {},
   "outputs": [
    {
     "name": "stdout",
     "output_type": "stream",
     "text": [
      "Epoch [100/1000], Loss: 0.6214\n",
      "Epoch [200/1000], Loss: 0.5578\n",
      "Epoch [300/1000], Loss: 0.4553\n",
      "Epoch [400/1000], Loss: 0.3498\n",
      "Epoch [500/1000], Loss: 0.2800\n",
      "Epoch [600/1000], Loss: 0.2294\n",
      "Epoch [700/1000], Loss: 0.1869\n",
      "Epoch [800/1000], Loss: 0.1491\n",
      "Epoch [900/1000], Loss: 0.1178\n",
      "Epoch [1000/1000], Loss: 0.0941\n"
     ]
    }
   ],
   "source": [
    "# your code here\n",
    "# Train the model\n",
    "# Assuming you have a DataLoader\n",
    "num_epochs = 1000\n",
    "iterations = []\n",
    "losses = []\n",
    "for epoch in range(num_epochs):\n",
    "    outputs = model(data_in)\n",
    "    loss = criterion(outputs, data_target)\n",
    "\n",
    "    # Backward pass and optimization\n",
    "    optimizer.zero_grad()\n",
    "    loss.backward()\n",
    "    optimizer.step()\n",
    "    \n",
    "    iterations.append(epoch)\n",
    "    losses.append(loss.item())\n",
    "    if (epoch + 1) % 100 == 0:\n",
    "        print(f'Epoch [{epoch+1}/{num_epochs}], Loss: {loss.item():.4f}')"
   ]
  },
  {
   "cell_type": "code",
   "execution_count": 25,
   "id": "dff3ec1a",
   "metadata": {},
   "outputs": [
    {
     "data": {
      "image/png": "[encoded data removed]",
      "text/plain": [
       "<Figure size 640x480 with 1 Axes>"
      ]
     },
     "metadata": {},
     "output_type": "display_data"
    }
   ],
   "source": [
    "# your code here\n",
    "# visualize the resuts\n",
    "plt.plot(iterations, losses)\n",
    "plt.ylabel(\"Loss\")\n",
    "plt.xlabel(\"iterations\")\n",
    "plt.show()"
   ]
  },
  {
   "cell_type": "code",
   "execution_count": 16,
   "id": "c1a7518b",
   "metadata": {},
   "outputs": [
    {
     "name": "stdout",
     "output_type": "stream",
     "text": [
      "network.hidden.weight tensor([[ 0.5435, -0.5076],\n",
      "        [ 0.0023, -0.2568],\n",
      "        [-0.9635, -0.8836]])\n",
      "network.hidden.bias tensor([-0.0375, -0.2020,  1.8314])\n",
      "network.output.weight tensor([[-0.1563,  0.1259, -1.7231],\n",
      "        [ 0.4575, -0.2357,  1.4541]])\n",
      "network.output.bias tensor([ 0.3787, -0.1411])\n"
     ]
    }
   ],
   "source": [
    "# your code here\n",
    "# print model weights\n",
    "for name, param in model.named_parameters():\n",
    "    if param.requires_grad:\n",
    "        print(name, param.data)"
   ]
  },
  {
   "cell_type": "code",
   "execution_count": 30,
   "id": "4cdf09ba",
   "metadata": {},
   "outputs": [
    {
     "name": "stdout",
     "output_type": "stream",
     "text": [
      "MyNeuralNetwork2(\n",
      "  (network): Sequential(\n",
      "    (hidden): Linear(in_features=2, out_features=5, bias=True)\n",
      "    (relu): ReLU()\n",
      "    (output): Linear(in_features=5, out_features=2, bias=True)\n",
      "  )\n",
      ")\n",
      "Epoch [100/1000], Loss: 0.6215\n",
      "Epoch [200/1000], Loss: 0.5763\n",
      "Epoch [300/1000], Loss: 0.5294\n",
      "Epoch [400/1000], Loss: 0.4761\n",
      "Epoch [500/1000], Loss: 0.4110\n",
      "Epoch [600/1000], Loss: 0.3381\n",
      "Epoch [700/1000], Loss: 0.3017\n",
      "Epoch [800/1000], Loss: 0.2833\n",
      "Epoch [900/1000], Loss: 0.2735\n",
      "Epoch [1000/1000], Loss: 0.2664\n"
     ]
    },
    {
     "data": {
      "image/png": "[encoded data removed]",
      "text/plain": [
       "<Figure size 640x480 with 1 Axes>"
      ]
     },
     "metadata": {},
     "output_type": "display_data"
    }
   ],
   "source": [
    "class MyNeuralNetwork2(nn.Module):\n",
    "    def __init__(self, hidden_size):\n",
    "        super(MyNeuralNetwork2, self).__init__()\n",
    "        self.network = nn.Sequential(OrderedDict([\n",
    "        ('hidden',nn.Linear(2, hidden_size)),\n",
    "        ('relu', nn.ReLU()),\n",
    "        ('output', nn.Linear(hidden_size, 2))\n",
    "        ]))\n",
    "    def forward(self, x):\n",
    "        return self.network(x)\n",
    "        \n",
    "model2 = MyNeuralNetwork2(5);\n",
    "print(model2)\n",
    "data_in = torch.tensor([[0, 0], [0, 1], [1, 0], [1, 1]], dtype=torch.float32)\n",
    "data_target = torch.tensor([[0, 0], [0, 1], [0, 1], [1, 0]], dtype=torch.float32)\n",
    "\n",
    "\n",
    "criterion2 = nn.BCEWithLogitsLoss() #once again for multiclass\n",
    "optimizer2 = torch.optim.SGD(model2.parameters(), lr=0.1) \n",
    "\n",
    "num_epochs = 1000\n",
    "iterations = []\n",
    "losses = []\n",
    "for epoch in range(num_epochs):\n",
    "    outputs = model2(data_in)\n",
    "    loss = criterion2(outputs, data_target)\n",
    "\n",
    "    # Backward pass and optimization\n",
    "    optimizer2.zero_grad()\n",
    "    loss.backward()\n",
    "    optimizer2.step()\n",
    "\n",
    "    iterations.append(epoch)\n",
    "    losses.append(loss.item())\n",
    "    if (epoch + 1) % 100 == 0:\n",
    "        print(f'Epoch [{epoch+1}/{num_epochs}], Loss: {loss.item():.4f}')\n",
    "\n",
    "# your code here\n",
    "# visualize the resuts\n",
    "plt.plot(iterations, losses)\n",
    "plt.ylabel(\"Loss\")\n",
    "plt.xlabel(\"iterations\")\n",
    "plt.show()"
   ]
  },
  {
   "cell_type": "code",
   "execution_count": 2,
   "id": "d0bea66c",
   "metadata": {},
   "outputs": [
    {
     "name": "stdout",
     "output_type": "stream",
     "text": [
      "MyNeuralNetwork3(\n",
      "  (network): Sequential(\n",
      "    (0): Linear(in_features=2, out_features=4, bias=True)\n",
      "    (1): LeakyReLU(negative_slope=0.01)\n",
      "    (2): Linear(in_features=4, out_features=2, bias=True)\n",
      "  )\n",
      ")\n",
      "Epoch [100/10000], Loss: 0.3743\n",
      "Epoch [200/10000], Loss: 0.3406\n",
      "Epoch [300/10000], Loss: 0.2854\n",
      "Epoch [400/10000], Loss: 0.2576\n",
      "Epoch [500/10000], Loss: 0.2596\n",
      "Epoch [600/10000], Loss: 0.2533\n",
      "Epoch [700/10000], Loss: 0.2546\n",
      "Epoch [800/10000], Loss: 0.2598\n",
      "Epoch [900/10000], Loss: 0.2539\n",
      "Epoch [1000/10000], Loss: 0.2586\n",
      "Epoch [1100/10000], Loss: 0.2622\n",
      "Epoch [1200/10000], Loss: 0.2577\n",
      "Epoch [1300/10000], Loss: 0.2593\n",
      "Epoch [1400/10000], Loss: 0.2570\n",
      "Epoch [1500/10000], Loss: 0.2584\n",
      "Epoch [1600/10000], Loss: 0.2594\n",
      "Epoch [1700/10000], Loss: 0.2532\n",
      "Epoch [1800/10000], Loss: 0.2564\n",
      "Epoch [1900/10000], Loss: 0.2547\n",
      "Epoch [2000/10000], Loss: 0.2550\n",
      "Epoch [2100/10000], Loss: 0.2587\n",
      "Epoch [2200/10000], Loss: 0.2535\n",
      "Epoch [2300/10000], Loss: 0.2599\n",
      "Epoch [2400/10000], Loss: 0.2615\n",
      "Epoch [2500/10000], Loss: 0.2561\n",
      "Epoch [2600/10000], Loss: 0.2597\n",
      "Epoch [2700/10000], Loss: 0.2551\n",
      "Epoch [2800/10000], Loss: 0.2544\n",
      "Epoch [2900/10000], Loss: 0.2581\n",
      "Epoch [3000/10000], Loss: 0.2554\n",
      "Epoch [3100/10000], Loss: 0.2571\n",
      "Epoch [3200/10000], Loss: 0.2612\n",
      "Epoch [3300/10000], Loss: 0.2566\n",
      "Epoch [3400/10000], Loss: 0.2603\n",
      "Epoch [3500/10000], Loss: 0.2602\n",
      "Epoch [3600/10000], Loss: 0.2546\n",
      "Epoch [3700/10000], Loss: 0.2556\n",
      "Epoch [3800/10000], Loss: 0.2530\n",
      "Epoch [3900/10000], Loss: 0.2576\n",
      "Epoch [4000/10000], Loss: 0.2615\n",
      "Epoch [4100/10000], Loss: 0.2551\n",
      "Epoch [4200/10000], Loss: 0.2582\n",
      "Epoch [4300/10000], Loss: 0.2571\n",
      "Epoch [4400/10000], Loss: 0.2569\n",
      "Epoch [4500/10000], Loss: 0.2588\n",
      "Epoch [4600/10000], Loss: 0.2538\n",
      "Epoch [4700/10000], Loss: 0.2562\n",
      "Epoch [4800/10000], Loss: 0.2597\n",
      "Epoch [4900/10000], Loss: 0.2555\n",
      "Epoch [5000/10000], Loss: 0.2601\n",
      "Epoch [5100/10000], Loss: 0.2556\n",
      "Epoch [5200/10000], Loss: 0.2610\n",
      "Epoch [5300/10000], Loss: 0.2575\n",
      "Epoch [5400/10000], Loss: 0.2545\n",
      "Epoch [5500/10000], Loss: 0.2584\n",
      "Epoch [5600/10000], Loss: 0.2530\n",
      "Epoch [5700/10000], Loss: 0.2557\n",
      "Epoch [5800/10000], Loss: 0.2536\n",
      "Epoch [5900/10000], Loss: 0.2548\n",
      "Epoch [6000/10000], Loss: 0.2613\n",
      "Epoch [6100/10000], Loss: 0.2551\n",
      "Epoch [6200/10000], Loss: 0.2589\n",
      "Epoch [6300/10000], Loss: 0.2575\n",
      "Epoch [6400/10000], Loss: 0.2581\n",
      "Epoch [6500/10000], Loss: 0.2586\n",
      "Epoch [6600/10000], Loss: 0.2539\n",
      "Epoch [6700/10000], Loss: 0.2565\n",
      "Epoch [6800/10000], Loss: 0.2553\n",
      "Epoch [6900/10000], Loss: 0.2568\n",
      "Epoch [7000/10000], Loss: 0.2565\n",
      "Epoch [7100/10000], Loss: 0.2577\n",
      "Epoch [7200/10000], Loss: 0.2612\n",
      "Epoch [7300/10000], Loss: 0.2539\n",
      "Epoch [7400/10000], Loss: 0.2567\n",
      "Epoch [7500/10000], Loss: 0.2592\n",
      "Epoch [7600/10000], Loss: 0.2602\n",
      "Epoch [7700/10000], Loss: 0.2606\n",
      "Epoch [7800/10000], Loss: 0.2572\n",
      "Epoch [7900/10000], Loss: 0.2600\n",
      "Epoch [8000/10000], Loss: 0.2591\n",
      "Epoch [8100/10000], Loss: 0.2554\n",
      "Epoch [8200/10000], Loss: 0.2581\n",
      "Epoch [8300/10000], Loss: 0.2528\n",
      "Epoch [8400/10000], Loss: 0.2562\n",
      "Epoch [8500/10000], Loss: 0.2572\n",
      "Epoch [8600/10000], Loss: 0.2592\n",
      "Epoch [8700/10000], Loss: 0.2595\n",
      "Epoch [8800/10000], Loss: 0.2557\n",
      "Epoch [8900/10000], Loss: 0.2590\n",
      "Epoch [9000/10000], Loss: 0.2543\n",
      "Epoch [9100/10000], Loss: 0.2582\n",
      "Epoch [9200/10000], Loss: 0.2622\n",
      "Epoch [9300/10000], Loss: 0.2560\n",
      "Epoch [9400/10000], Loss: 0.2581\n",
      "Epoch [9500/10000], Loss: 0.2543\n",
      "Epoch [9600/10000], Loss: 0.2585\n",
      "Epoch [9700/10000], Loss: 0.2549\n",
      "Epoch [9800/10000], Loss: 0.2551\n",
      "Epoch [9900/10000], Loss: 0.2588\n",
      "Epoch [10000/10000], Loss: 0.2537\n"
     ]
    },
    {
     "data": {
      "image/png": "[encoded data removed]",
      "text/plain": [
       "<Figure size 640x480 with 1 Axes>"
      ]
     },
     "metadata": {},
     "output_type": "display_data"
    }
   ],
   "source": [
    "class MyNeuralNetwork3(nn.Module):\n",
    "    def __init__(self, hidden_size):\n",
    "        super(MyNeuralNetwork3, self).__init__()\n",
    "        self.network = nn.Sequential(\n",
    "            nn.Linear(2, hidden_size),\n",
    "            nn.LeakyReLU(),  # Leaky ReLU activation\n",
    "            nn.Linear(hidden_size, 2)\n",
    "        )\n",
    "    def forward(self, x):\n",
    "        return self.network(x)\n",
    "        \n",
    "model3 = MyNeuralNetwork3(4);\n",
    "print(model3)\n",
    "data_in = torch.tensor([[0, 0], [0, 1], [1, 0], [1, 1]], dtype=torch.float32)\n",
    "data_target = torch.tensor([[0, 0], [0, 1], [0, 1], [1, 0]], dtype=torch.float32)\n",
    "\n",
    "\n",
    "criterion3 = nn.L1Loss() #Mean Absolute Error Loss\n",
    "optimizer3 = torch.optim.SGD(model3.parameters(), lr=0.05) \n",
    "\n",
    "num_epochs = 10000\n",
    "iterations = []\n",
    "losses = []\n",
    "for epoch in range(num_epochs):\n",
    "    outputs = model3(data_in)\n",
    "    loss = criterion3(outputs, data_target)\n",
    "\n",
    "    # Backward pass and optimization\n",
    "    optimizer3.zero_grad()\n",
    "    loss.backward()\n",
    "    optimizer3.step()\n",
    "\n",
    "    iterations.append(epoch)\n",
    "    losses.append(loss.item())\n",
    "    if (epoch + 1) % 100 == 0:\n",
    "        print(f'Epoch [{epoch+1}/{num_epochs}], Loss: {loss.item():.4f}')\n",
    "\n",
    "# your code here\n",
    "# visualize the resuts\n",
    "plt.plot(iterations, losses)\n",
    "plt.ylabel(\"Loss\")\n",
    "plt.xlabel(\"iterations\")\n",
    "plt.show()"
   ]
  },
  {
   "cell_type": "code",
   "execution_count": 5,
   "id": "e29c65a2",
   "metadata": {},
   "outputs": [
    {
     "name": "stdout",
     "output_type": "stream",
     "text": [
      "MyNeuralNetwork4(\n",
      "  (network): Sequential(\n",
      "    (0): Linear(in_features=2, out_features=2, bias=True)\n",
      "    (1): Tanh()\n",
      "    (2): Linear(in_features=2, out_features=2, bias=True)\n",
      "  )\n",
      ")\n",
      "Epoch [100/1000], Loss: 0.3750\n",
      "Epoch [200/1000], Loss: 0.3750\n",
      "Epoch [300/1000], Loss: 0.3749\n",
      "Epoch [400/1000], Loss: 0.3749\n",
      "Epoch [500/1000], Loss: 0.3748\n",
      "Epoch [600/1000], Loss: 0.3746\n",
      "Epoch [700/1000], Loss: 0.3743\n",
      "Epoch [800/1000], Loss: 0.3737\n",
      "Epoch [900/1000], Loss: 0.3725\n",
      "Epoch [1000/1000], Loss: 0.3694\n"
     ]
    },
    {
     "data": {
      "image/png": "[encoded data removed]",
      "text/plain": [
       "<Figure size 640x480 with 1 Axes>"
      ]
     },
     "metadata": {},
     "output_type": "display_data"
    }
   ],
   "source": [
    "class MyNeuralNetwork4(nn.Module):\n",
    "    def __init__(self, hidden_size):\n",
    "        super(MyNeuralNetwork4, self).__init__()\n",
    "        self.network = nn.Sequential(\n",
    "            nn.Linear(2, hidden_size),\n",
    "            nn.Tanh(),  # Hyperbolic Tangent (Tanh) activation\n",
    "            nn.Linear(hidden_size, 2),\n",
    "        )\n",
    "    def forward(self, x):\n",
    "        return self.network(x)\n",
    "        \n",
    "model4 = MyNeuralNetwork4(2);\n",
    "print(model4)\n",
    "data_in = torch.tensor([[0, 0], [0, 1], [1, 0], [1, 1]], dtype=torch.float32)\n",
    "data_target = torch.tensor([[0, 0], [0, 1], [0, 1], [1, 0]], dtype=torch.float32)\n",
    "\n",
    "\n",
    "criterion4 = nn.L1Loss() #Mean Absolute Error Loss\n",
    "optimizer4 = torch.optim.SGD(model4.parameters(), lr=0.1) \n",
    "\n",
    "num_epochs = 1000\n",
    "iterations = []\n",
    "losses = []\n",
    "for epoch in range(num_epochs):\n",
    "    outputs = model4(data_in)\n",
    "    loss = criterion4(outputs, data_target)\n",
    "\n",
    "    # Backward pass and optimization\n",
    "    optimizer4.zero_grad()\n",
    "    loss.backward()\n",
    "    optimizer4.step()\n",
    "\n",
    "    iterations.append(epoch)\n",
    "    losses.append(loss.item())\n",
    "    if (epoch + 1) % 100 == 0:\n",
    "        print(f'Epoch [{epoch+1}/{num_epochs}], Loss: {loss.item():.4f}')\n",
    "\n",
    "# your code here\n",
    "# visualize the resuts\n",
    "plt.plot(iterations, losses)\n",
    "plt.ylabel(\"Loss\")\n",
    "plt.xlabel(\"iterations\")\n",
    "plt.show()"
   ]
  }
 ],
 "metadata": {
  "kernelspec": {
   "display_name": "Python 3 (ipykernel)",
   "language": "python",
   "name": "python3"
  },
  "language_info": {
   "codemirror_mode": {
    "name": "ipython",
    "version": 3
   },
   "file_extension": ".py",
   "mimetype": "text/x-python",
   "name": "python",
   "nbconvert_exporter": "python",
   "pygments_lexer": "ipython3",
   "version": "3.9.18"
  }
 },
 "nbformat": 4,
 "nbformat_minor": 5
}
